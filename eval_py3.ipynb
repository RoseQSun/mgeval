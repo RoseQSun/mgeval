{
 "cells": [
  {
   "cell_type": "markdown",
   "id": "b44474f6",
   "metadata": {},
   "source": [
    "# MIDI Score Evaluation Using MGEval - Python3 Part"
   ]
  },
  {
   "cell_type": "markdown",
   "id": "444ccdb4",
   "metadata": {},
   "source": [
    "## Setup\n",
    "1. Set up a Python 3 environment:\n",
    "```sh\n",
    "conda create -n mgeval_py3 python=3\n",
    "conda activate mgeval_py3\n",
    "```\n",
    "2. Install dependencies from PyPI:\n",
    "```sh\n",
    "pip install numpy scipy scikit-learn pretty-midi notebook\n",
    "```"
   ]
  },
  {
   "cell_type": "markdown",
   "id": "76c82341",
   "metadata": {},
   "source": [
    "## Features\n",
    "Features that can only be extracted using Python 3:\n",
    "- `total_used_pitch`\n",
    "- `total_pitch_class_histogram`\n",
    "- `bar_pitch_class_histogram`\n",
    "- `pitch_class_transition_matrix`\n",
    "- `pitch_range`\n",
    "- `avg_IOI`"
   ]
  },
  {
   "cell_type": "markdown",
   "id": "a2235296",
   "metadata": {},
   "source": [
    "We use *auto-reload* to automatically reload the Python script without restarting the Jupyter kernel."
   ]
  },
  {
   "cell_type": "code",
   "execution_count": 1,
   "id": "32b0d066",
   "metadata": {},
   "outputs": [],
   "source": [
    "%load_ext autoreload\n",
    "%autoreload 2"
   ]
  },
  {
   "cell_type": "markdown",
   "id": "7ed18291",
   "metadata": {},
   "source": [
    "We will be using `core3` module, which is a modified version of `core` module without features relying on `python-midi`'s MIDI parsing and with some compatibility fix for Python 3."
   ]
  },
  {
   "cell_type": "code",
   "execution_count": 2,
   "id": "e1a8cf9b",
   "metadata": {},
   "outputs": [],
   "source": [
    "import glob\n",
    "\n",
    "# import midi\n",
    "import numpy as np\n",
    "import matplotlib.pyplot as plt\n",
    "from sklearn.model_selection import LeaveOneOut\n",
    "import seaborn as sns\n",
    "\n",
    "from mgeval import core3, utils"
   ]
  },
  {
   "cell_type": "code",
   "execution_count": 3,
   "id": "53445b2f",
   "metadata": {},
   "outputs": [],
   "source": [
    "jazz_train_set = glob.glob('/Users/roseqsun/Desktop/InterpretableObjectiveEvaluation/wjazzd/*.mid')\n",
    "jazz_gen_set = glob.glob('/Users/roseqsun/Desktop/InterpretableObjectiveEvaluation/out_0405/*.mid')"
   ]
  },
  {
   "cell_type": "code",
   "execution_count": 4,
   "id": "abb3a3d8",
   "metadata": {},
   "outputs": [],
   "source": [
    "num_samples = 126"
   ]
  },
  {
   "cell_type": "markdown",
   "id": "a59c465e",
   "metadata": {},
   "source": [
    "## Absolute measurement: statistic analysis"
   ]
  },
  {
   "cell_type": "markdown",
   "id": "9a96d577",
   "metadata": {},
   "source": [
    "Compared to the Python 2 version, the Python 3 version has one important change:\n",
    "We need to explicitly convert `jazz_train_set_eval.keys()` into a list. In Python 3, calling `keys()` method only returns a view object.\n",
    "\n",
    "Also, we need to use `core3` instead.\n",
    "\n",
    "`total_used_pitch` function does not have `num_tracks` argument."
   ]
  },
  {
   "cell_type": "code",
   "execution_count": 43,
   "id": "b3a6da55",
   "metadata": {},
   "outputs": [],
   "source": [
    "jazz_train_set_eval = {'total_used_pitch': np.zeros((num_samples, 1))}\n",
    "metrics_list = list(jazz_train_set_eval.keys())\n",
    "for i in range(0, num_samples):\n",
    "    feature = core3.extract_feature(jazz_train_set[i])\n",
    "    jazz_train_set_eval[metrics_list[0]][i] = getattr(core3.metrics(), metrics_list[0])(feature)"
   ]
  },
  {
   "cell_type": "code",
   "execution_count": 44,
   "id": "5d6da959",
   "metadata": {},
   "outputs": [
    {
     "data": {
      "text/plain": [
       "{'total_used_pitch': array([[17.],\n",
       "        [25.],\n",
       "        [42.],\n",
       "        [17.],\n",
       "        [26.],\n",
       "        [27.],\n",
       "        [29.],\n",
       "        [24.],\n",
       "        [17.],\n",
       "        [23.],\n",
       "        [30.],\n",
       "        [21.],\n",
       "        [28.],\n",
       "        [29.],\n",
       "        [33.],\n",
       "        [24.],\n",
       "        [25.],\n",
       "        [25.],\n",
       "        [24.],\n",
       "        [40.],\n",
       "        [34.],\n",
       "        [35.],\n",
       "        [29.],\n",
       "        [28.],\n",
       "        [30.],\n",
       "        [36.],\n",
       "        [21.],\n",
       "        [29.],\n",
       "        [26.],\n",
       "        [37.],\n",
       "        [30.],\n",
       "        [17.],\n",
       "        [30.],\n",
       "        [30.],\n",
       "        [22.],\n",
       "        [32.],\n",
       "        [30.],\n",
       "        [35.],\n",
       "        [27.],\n",
       "        [25.],\n",
       "        [21.],\n",
       "        [30.],\n",
       "        [28.],\n",
       "        [32.],\n",
       "        [16.],\n",
       "        [38.],\n",
       "        [26.],\n",
       "        [30.],\n",
       "        [28.],\n",
       "        [27.],\n",
       "        [32.],\n",
       "        [24.],\n",
       "        [25.],\n",
       "        [24.],\n",
       "        [22.],\n",
       "        [34.],\n",
       "        [18.],\n",
       "        [30.],\n",
       "        [22.],\n",
       "        [25.],\n",
       "        [38.],\n",
       "        [26.],\n",
       "        [38.],\n",
       "        [21.],\n",
       "        [28.],\n",
       "        [41.],\n",
       "        [18.],\n",
       "        [38.],\n",
       "        [29.],\n",
       "        [29.],\n",
       "        [22.],\n",
       "        [22.],\n",
       "        [22.],\n",
       "        [25.],\n",
       "        [21.],\n",
       "        [30.],\n",
       "        [21.],\n",
       "        [28.],\n",
       "        [31.],\n",
       "        [24.],\n",
       "        [23.],\n",
       "        [36.],\n",
       "        [34.],\n",
       "        [34.],\n",
       "        [20.],\n",
       "        [27.],\n",
       "        [28.],\n",
       "        [29.],\n",
       "        [33.],\n",
       "        [26.],\n",
       "        [26.],\n",
       "        [31.],\n",
       "        [33.],\n",
       "        [22.],\n",
       "        [28.],\n",
       "        [31.],\n",
       "        [26.],\n",
       "        [25.],\n",
       "        [25.],\n",
       "        [12.],\n",
       "        [32.],\n",
       "        [28.],\n",
       "        [26.],\n",
       "        [29.],\n",
       "        [31.],\n",
       "        [20.],\n",
       "        [15.],\n",
       "        [20.],\n",
       "        [36.],\n",
       "        [36.],\n",
       "        [38.],\n",
       "        [27.],\n",
       "        [26.],\n",
       "        [25.],\n",
       "        [23.],\n",
       "        [20.],\n",
       "        [23.],\n",
       "        [27.],\n",
       "        [24.],\n",
       "        [18.],\n",
       "        [37.],\n",
       "        [26.],\n",
       "        [27.],\n",
       "        [27.],\n",
       "        [25.],\n",
       "        [37.]])}"
      ]
     },
     "execution_count": 44,
     "metadata": {},
     "output_type": "execute_result"
    }
   ],
   "source": [
    "jazz_train_set_eval"
   ]
  },
  {
   "cell_type": "code",
   "execution_count": 45,
   "id": "1bc56621",
   "metadata": {},
   "outputs": [],
   "source": [
    "jazz_gen_set_eval = {'total_used_pitch': np.zeros((num_samples, 1))}\n",
    "metrics_list = list(jazz_gen_set_eval.keys())\n",
    "for i in range(0, num_samples):\n",
    "    feature = core3.extract_feature(jazz_gen_set[i])\n",
    "    jazz_gen_set_eval[metrics_list[0]][i] = getattr(core3.metrics(), metrics_list[0])(feature)"
   ]
  },
  {
   "cell_type": "code",
   "execution_count": 46,
   "id": "5dea1c0d",
   "metadata": {},
   "outputs": [
    {
     "data": {
      "text/plain": [
       "{'total_used_pitch': array([[23.],\n",
       "        [21.],\n",
       "        [21.],\n",
       "        [33.],\n",
       "        [22.],\n",
       "        [28.],\n",
       "        [25.],\n",
       "        [33.],\n",
       "        [20.],\n",
       "        [23.],\n",
       "        [40.],\n",
       "        [27.],\n",
       "        [20.],\n",
       "        [30.],\n",
       "        [25.],\n",
       "        [30.],\n",
       "        [23.],\n",
       "        [22.],\n",
       "        [22.],\n",
       "        [32.],\n",
       "        [28.],\n",
       "        [22.],\n",
       "        [17.],\n",
       "        [27.],\n",
       "        [35.],\n",
       "        [39.],\n",
       "        [43.],\n",
       "        [29.],\n",
       "        [23.],\n",
       "        [24.],\n",
       "        [37.],\n",
       "        [37.],\n",
       "        [25.],\n",
       "        [42.],\n",
       "        [36.],\n",
       "        [32.],\n",
       "        [30.],\n",
       "        [16.],\n",
       "        [19.],\n",
       "        [25.],\n",
       "        [40.],\n",
       "        [24.],\n",
       "        [22.],\n",
       "        [32.],\n",
       "        [33.],\n",
       "        [17.],\n",
       "        [28.],\n",
       "        [24.],\n",
       "        [34.],\n",
       "        [19.],\n",
       "        [30.],\n",
       "        [25.],\n",
       "        [34.],\n",
       "        [19.],\n",
       "        [26.],\n",
       "        [29.],\n",
       "        [31.],\n",
       "        [18.],\n",
       "        [31.],\n",
       "        [24.],\n",
       "        [34.],\n",
       "        [23.],\n",
       "        [23.],\n",
       "        [26.],\n",
       "        [29.],\n",
       "        [19.],\n",
       "        [20.],\n",
       "        [30.],\n",
       "        [13.],\n",
       "        [35.],\n",
       "        [20.],\n",
       "        [21.],\n",
       "        [22.],\n",
       "        [28.],\n",
       "        [28.],\n",
       "        [25.],\n",
       "        [32.],\n",
       "        [26.],\n",
       "        [24.],\n",
       "        [27.],\n",
       "        [31.],\n",
       "        [18.],\n",
       "        [29.],\n",
       "        [20.],\n",
       "        [23.],\n",
       "        [27.],\n",
       "        [22.],\n",
       "        [29.],\n",
       "        [32.],\n",
       "        [26.],\n",
       "        [21.],\n",
       "        [21.],\n",
       "        [27.],\n",
       "        [26.],\n",
       "        [30.],\n",
       "        [24.],\n",
       "        [34.],\n",
       "        [39.],\n",
       "        [26.],\n",
       "        [21.],\n",
       "        [38.],\n",
       "        [23.],\n",
       "        [43.],\n",
       "        [20.],\n",
       "        [30.],\n",
       "        [30.],\n",
       "        [33.],\n",
       "        [24.],\n",
       "        [30.],\n",
       "        [22.],\n",
       "        [20.],\n",
       "        [22.],\n",
       "        [25.],\n",
       "        [26.],\n",
       "        [22.],\n",
       "        [17.],\n",
       "        [42.],\n",
       "        [23.],\n",
       "        [25.],\n",
       "        [37.],\n",
       "        [29.],\n",
       "        [29.],\n",
       "        [29.],\n",
       "        [25.],\n",
       "        [24.],\n",
       "        [24.]])}"
      ]
     },
     "execution_count": 46,
     "metadata": {},
     "output_type": "execute_result"
    }
   ],
   "source": [
    "jazz_gen_set_eval"
   ]
  },
  {
   "cell_type": "code",
   "execution_count": 47,
   "id": "26f5caf7",
   "metadata": {},
   "outputs": [
    {
     "name": "stdout",
     "output_type": "stream",
     "text": [
      "total_used_pitch:\n",
      "------------------------\n",
      " demo_set\n",
      "  mean:  [27.34126984]\n",
      "  std:  [5.9310358]\n",
      "------------------------\n",
      " demo_set\n",
      "  mean:  [26.8968254]\n",
      "  std:  [6.27394381]\n"
     ]
    }
   ],
   "source": [
    "for i in range(0, len(metrics_list)):\n",
    "    print(metrics_list[i] + ':')\n",
    "    print('------------------------')\n",
    "    print(' demo_set')\n",
    "    print('  mean: ', np.mean(jazz_train_set_eval[metrics_list[i]], axis=0))\n",
    "    print('  std: ', np.std(jazz_train_set_eval[metrics_list[i]], axis=0))\n",
    "\n",
    "    print('------------------------')\n",
    "    print(' demo_set')\n",
    "    print('  mean: ', np.mean(jazz_gen_set_eval[metrics_list[i]], axis=0))\n",
    "    print('  std: ', np.std(jazz_gen_set_eval[metrics_list[i]], axis=0))"
   ]
  },
  {
   "cell_type": "markdown",
   "id": "f5709af0",
   "metadata": {},
   "source": [
    "## Relative measurement: generalizes the result among features with various dimensions"
   ]
  },
  {
   "cell_type": "code",
   "execution_count": 48,
   "id": "8dfc6848",
   "metadata": {},
   "outputs": [],
   "source": [
    "loo = LeaveOneOut()\n",
    "loo.get_n_splits(np.arange(num_samples))\n",
    "jazz_train_set_intra = np.zeros((num_samples, len(metrics_list), num_samples-1))\n",
    "jazz_gen_set_intra = np.zeros((num_samples, len(metrics_list), num_samples-1))\n",
    "\n",
    "for i in range(len(metrics_list)):\n",
    "    for train_index, test_index in loo.split(np.arange(num_samples)):\n",
    "        jazz_train_set_intra[test_index[0]][i] = utils.c_dist(jazz_train_set_eval[metrics_list[i]][test_index], jazz_train_set_eval[metrics_list[i]][train_index])\n",
    "        jazz_gen_set_intra[test_index[0]][i] = utils.c_dist(jazz_gen_set_eval[metrics_list[i]][test_index], jazz_gen_set_eval[metrics_list[i]][train_index])\n"
   ]
  },
  {
   "cell_type": "code",
   "execution_count": 49,
   "id": "42472b03",
   "metadata": {},
   "outputs": [],
   "source": [
    "loo = LeaveOneOut()\n",
    "loo.get_n_splits(np.arange(num_samples))\n",
    "sets_inter = np.zeros((num_samples, len(metrics_list), num_samples))\n",
    "\n",
    "for i in range(len(metrics_list)):\n",
    "    for train_index, test_index in loo.split(np.arange(num_samples)):\n",
    "        sets_inter[test_index[0]][i] = utils.c_dist(jazz_train_set_eval[metrics_list[i]][test_index], jazz_gen_set_eval[metrics_list[i]])"
   ]
  },
  {
   "cell_type": "code",
   "execution_count": 50,
   "id": "e25e79ab",
   "metadata": {},
   "outputs": [
    {
     "data": {
      "image/png": "[encoded data removed]",
      "text/plain": [
       "<Figure size 640x480 with 1 Axes>"
      ]
     },
     "metadata": {},
     "output_type": "display_data"
    }
   ],
   "source": [
    "plot_jazz_train_set_intra = np.transpose(jazz_train_set_intra,(1, 0, 2)).reshape(len(metrics_list), -1)\n",
    "plot_jazz_gen_set_intra = np.transpose(jazz_gen_set_intra,(1, 0, 2)).reshape(len(metrics_list), -1)\n",
    "plot_sets_inter = np.transpose(sets_inter,(1, 0, 2)).reshape(len(metrics_list), -1)\n",
    "for i in range(0,len(metrics_list)):\n",
    "    sns.kdeplot(plot_jazz_train_set_intra[i], label='intra_set1')\n",
    "    sns.kdeplot(plot_sets_inter[i], label='inter')\n",
    "    sns.kdeplot(plot_jazz_gen_set_intra[i], label='intra_set2')\n",
    "\n",
    "    plt.title(metrics_list[i])\n",
    "    plt.xlabel('Euclidean distance')\n",
    "    plt.show()"
   ]
  },
  {
   "cell_type": "code",
   "execution_count": 51,
   "id": "ab16198b",
   "metadata": {},
   "outputs": [
    {
     "name": "stdout",
     "output_type": "stream",
     "text": [
      "total_used_pitch:\n",
      "------------------------\n",
      " demo_set1\n",
      "  Kullback–Leibler divergence: 0.0005583858197179314\n",
      "  Overlap area: 0.9512011885027746\n",
      " demo_set2\n",
      "  Kullback–Leibler divergence: 0.005951475044465509\n"
     ]
    },
    {
     "name": "stderr",
     "output_type": "stream",
     "text": [
      "/Users/roseqsun/Desktop/mgeval_rose/mgeval/mgeval/utils.py:18: IntegrationWarning: The maximum number of subdivisions (50) has been achieved.\n",
      "  If increasing the limit yields no improvement it is advised to analyze \n",
      "  the integrand in order to determine the difficulties.  If the position of a \n",
      "  local difficulty can be determined (singularity, discontinuity) one will \n",
      "  probably gain from splitting up the interval and calling the integrator \n",
      "  on the subranges.  Perhaps a special-purpose integrator should be used.\n",
      "  return integrate.quad(lambda x: min(pdf_A(x), pdf_B(x)), np.min((np.min(A), np.min(B))), np.max((np.max(A), np.max(B))))[0]\n"
     ]
    },
    {
     "name": "stdout",
     "output_type": "stream",
     "text": [
      "  Overlap area: 0.9520036411793805\n",
      " comp_set1_set2\n",
      "  Kullback–Leibler divergence: 0.004532043405621567\n",
      "  Overlap area: 0.9445972206600862\n"
     ]
    }
   ],
   "source": [
    "for i in range(0, len(metrics_list)):\n",
    "    print(metrics_list[i] + ':')\n",
    "    print('------------------------')\n",
    "    print(' demo_set1')\n",
    "    print('  Kullback–Leibler divergence:',utils.kl_dist(plot_jazz_train_set_intra[i], plot_sets_inter[i]))\n",
    "    print('  Overlap area:', utils.overlap_area(plot_jazz_train_set_intra[i], plot_sets_inter[i]))\n",
    "    \n",
    "    print(' demo_set2')\n",
    "    print('  Kullback–Leibler divergence:',utils.kl_dist(plot_jazz_gen_set_intra[i], plot_sets_inter[i]))\n",
    "    print('  Overlap area:', utils.overlap_area(plot_jazz_gen_set_intra[i], plot_sets_inter[i]))\n",
    "\n",
    "    print(' comp_set1_set2')\n",
    "    print('  Kullback–Leibler divergence:',utils.kl_dist(plot_jazz_train_set_intra[i],plot_jazz_gen_set_intra[i]))\n",
    "    print('  Overlap area:', utils.overlap_area(plot_jazz_train_set_intra[i],plot_jazz_gen_set_intra[i]))"
   ]
  },
  {
   "cell_type": "code",
   "execution_count": 39,
   "id": "2e4a58d0",
   "metadata": {},
   "outputs": [],
   "source": [
    "jazz_train_set_eval = {'total_pitch_class_histogram': np.zeros((num_samples, 12))}\n",
    "metrics_list = list(jazz_train_set_eval.keys())\n",
    "for i in range(0, num_samples):\n",
    "    feature = core3.extract_feature(jazz_train_set[i])\n",
    "    jazz_train_set_eval[metrics_list[0]][i] = getattr(core3.metrics(), metrics_list[0])(feature)\n",
    "    \n",
    "jazz_gen_set_eval = {'total_pitch_class_histogram': np.zeros((num_samples, 12))}\n",
    "metrics_list = list(jazz_gen_set_eval.keys())\n",
    "for i in range(0, num_samples):\n",
    "    feature = core3.extract_feature(jazz_gen_set[i])\n",
    "    jazz_gen_set_eval[metrics_list[0]][i] = getattr(core3.metrics(), metrics_list[0])(feature)"
   ]
  },
  {
   "cell_type": "code",
   "execution_count": 40,
   "id": "fbf59f85",
   "metadata": {},
   "outputs": [
    {
     "name": "stdout",
     "output_type": "stream",
     "text": [
      "total_pitch_class_histogram:\n",
      "------------------------\n",
      " demo_set\n",
      "  mean:  [0.10907668 0.06154909 0.09585462 0.09327083 0.06338785 0.11403615\n",
      " 0.04623969 0.10589697 0.07492631 0.08237153 0.10678002 0.04661026]\n",
      "  std:  [0.0496682  0.04130235 0.0656734  0.05922012 0.04111386 0.04903865\n",
      " 0.03298873 0.05422112 0.04933339 0.05198173 0.05368737 0.03237482]\n",
      "------------------------\n",
      " demo_set\n",
      "  mean:  [0.08755671 0.07434587 0.07694625 0.08751093 0.08194301 0.0882872\n",
      " 0.0843154  0.08767182 0.07866705 0.07602806 0.09684801 0.0798797 ]\n",
      "  std:  [0.05460818 0.04615099 0.04755871 0.0755124  0.05303875 0.05241065\n",
      " 0.06936155 0.05257176 0.04980662 0.04482538 0.07777043 0.04606955]\n"
     ]
    }
   ],
   "source": [
    "for i in range(0, len(metrics_list)):\n",
    "    print(metrics_list[i] + ':')\n",
    "    print('------------------------')\n",
    "    print(' demo_set')\n",
    "    print('  mean: ', np.mean(jazz_train_set_eval[metrics_list[i]], axis=0))\n",
    "    print('  std: ', np.std(jazz_train_set_eval[metrics_list[i]], axis=0))\n",
    "\n",
    "    print('------------------------')\n",
    "    print(' demo_set')\n",
    "    print('  mean: ', np.mean(jazz_gen_set_eval[metrics_list[i]], axis=0))\n",
    "    print('  std: ', np.std(jazz_gen_set_eval[metrics_list[i]], axis=0))"
   ]
  },
  {
   "cell_type": "code",
   "execution_count": 41,
   "id": "027c4494",
   "metadata": {},
   "outputs": [
    {
     "data": {
      "image/png": "[encoded data removed]",
      "text/plain": [
       "<Figure size 640x480 with 1 Axes>"
      ]
     },
     "metadata": {},
     "output_type": "display_data"
    }
   ],
   "source": [
    "loo = LeaveOneOut()\n",
    "loo.get_n_splits(np.arange(num_samples))\n",
    "jazz_train_set_intra = np.zeros((num_samples, len(metrics_list), num_samples-1))\n",
    "jazz_gen_set_intra = np.zeros((num_samples, len(metrics_list), num_samples-1))\n",
    "\n",
    "for i in range(len(metrics_list)):\n",
    "    for train_index, test_index in loo.split(np.arange(num_samples)):\n",
    "        jazz_train_set_intra[test_index[0]][i] = utils.c_dist(jazz_train_set_eval[metrics_list[i]][test_index], jazz_train_set_eval[metrics_list[i]][train_index])\n",
    "        jazz_gen_set_intra[test_index[0]][i] = utils.c_dist(jazz_gen_set_eval[metrics_list[i]][test_index], jazz_gen_set_eval[metrics_list[i]][train_index])\n",
    "\n",
    "loo = LeaveOneOut()\n",
    "loo.get_n_splits(np.arange(num_samples))\n",
    "sets_inter = np.zeros((num_samples, len(metrics_list), num_samples))\n",
    "\n",
    "for i in range(len(metrics_list)):\n",
    "    for train_index, test_index in loo.split(np.arange(num_samples)):\n",
    "        sets_inter[test_index[0]][i] = utils.c_dist(jazz_train_set_eval[metrics_list[i]][test_index], jazz_gen_set_eval[metrics_list[i]])\n",
    "\n",
    "plot_jazz_train_set_intra = np.transpose(jazz_train_set_intra,(1, 0, 2)).reshape(len(metrics_list), -1)\n",
    "plot_jazz_gen_set_intra = np.transpose(jazz_gen_set_intra,(1, 0, 2)).reshape(len(metrics_list), -1)\n",
    "plot_sets_inter = np.transpose(sets_inter,(1, 0, 2)).reshape(len(metrics_list), -1)\n",
    "for i in range(0,len(metrics_list)):\n",
    "    sns.kdeplot(plot_jazz_train_set_intra[i], label='intra_set1')\n",
    "    sns.kdeplot(plot_sets_inter[i], label='inter')\n",
    "    sns.kdeplot(plot_jazz_gen_set_intra[i], label='intra_set2')\n",
    "\n",
    "    plt.title(metrics_list[i])\n",
    "    plt.xlabel('Euclidean distance')\n",
    "    plt.show()"
   ]
  },
  {
   "cell_type": "code",
   "execution_count": 42,
   "id": "cc4db2e4",
   "metadata": {},
   "outputs": [
    {
     "name": "stdout",
     "output_type": "stream",
     "text": [
      "total_pitch_class_histogram:\n",
      "------------------------\n",
      " demo_set1\n",
      "  Kullback–Leibler divergence: 0.028802185316917965\n",
      "  Overlap area: 0.8893069230305494\n",
      " demo_set2\n",
      "  Kullback–Leibler divergence: 0.02524926680902765\n",
      "  Overlap area: 0.9481443477055063\n",
      " comp_set1_set2\n",
      "  Kullback–Leibler divergence: 0.07776145783236535\n",
      "  Overlap area: 0.8916160875992288\n"
     ]
    }
   ],
   "source": [
    "for i in range(0, len(metrics_list)):\n",
    "    print(metrics_list[i] + ':')\n",
    "    print('------------------------')\n",
    "    print(' demo_set1')\n",
    "    print('  Kullback–Leibler divergence:',utils.kl_dist(plot_jazz_train_set_intra[i], plot_sets_inter[i]))\n",
    "    print('  Overlap area:', utils.overlap_area(plot_jazz_train_set_intra[i], plot_sets_inter[i]))\n",
    "    \n",
    "    print(' demo_set2')\n",
    "    print('  Kullback–Leibler divergence:',utils.kl_dist(plot_jazz_gen_set_intra[i], plot_sets_inter[i]))\n",
    "    print('  Overlap area:', utils.overlap_area(plot_jazz_gen_set_intra[i], plot_sets_inter[i]))\n",
    "\n",
    "    print(' comp_set1_set2')\n",
    "    print('  Kullback–Leibler divergence:',utils.kl_dist(plot_jazz_train_set_intra[i],plot_jazz_gen_set_intra[i]))\n",
    "    print('  Overlap area:', utils.overlap_area(plot_jazz_train_set_intra[i],plot_jazz_gen_set_intra[i]))\n"
   ]
  },
  {
   "cell_type": "code",
   "execution_count": 35,
   "id": "0b640d93",
   "metadata": {},
   "outputs": [],
   "source": [
    "jazz_train_set_eval = {'pitch_range': np.zeros((num_samples, 1))}\n",
    "metrics_list = list(jazz_train_set_eval.keys())\n",
    "for i in range(0, num_samples):\n",
    "    feature = core3.extract_feature(jazz_train_set[i])\n",
    "    jazz_train_set_eval[metrics_list[0]][i] = getattr(core3.metrics(), metrics_list[0])(feature)\n",
    "    \n",
    "jazz_gen_set_eval = {'pitch_range': np.zeros((num_samples, 1))}\n",
    "metrics_list = list(jazz_gen_set_eval.keys())\n",
    "for i in range(0, num_samples):\n",
    "    feature = core3.extract_feature(jazz_gen_set[i])\n",
    "    jazz_gen_set_eval[metrics_list[0]][i] = getattr(core3.metrics(), metrics_list[0])(feature)"
   ]
  },
  {
   "cell_type": "code",
   "execution_count": 36,
   "id": "386d4742",
   "metadata": {},
   "outputs": [
    {
     "name": "stdout",
     "output_type": "stream",
     "text": [
      "pitch_range:\n",
      "------------------------\n",
      " demo_set\n",
      "  mean:  [28.6031746]\n",
      "  std:  [6.00142756]\n",
      "------------------------\n",
      " demo_set\n",
      "  mean:  [28.28571429]\n",
      "  std:  [6.51232914]\n"
     ]
    }
   ],
   "source": [
    "for i in range(0, len(metrics_list)):\n",
    "    print(metrics_list[i] + ':')\n",
    "    print('------------------------')\n",
    "    print(' demo_set')\n",
    "    print('  mean: ', np.mean(jazz_train_set_eval[metrics_list[i]], axis=0))\n",
    "    print('  std: ', np.std(jazz_train_set_eval[metrics_list[i]], axis=0))\n",
    "\n",
    "    print('------------------------')\n",
    "    print(' demo_set')\n",
    "    print('  mean: ', np.mean(jazz_gen_set_eval[metrics_list[i]], axis=0))\n",
    "    print('  std: ', np.std(jazz_gen_set_eval[metrics_list[i]], axis=0))"
   ]
  },
  {
   "cell_type": "code",
   "execution_count": 37,
   "id": "2074ff46",
   "metadata": {},
   "outputs": [
    {
     "data": {
      "image/png": "[encoded data removed]",
      "text/plain": [
       "<Figure size 640x480 with 1 Axes>"
      ]
     },
     "metadata": {},
     "output_type": "display_data"
    }
   ],
   "source": [
    "loo = LeaveOneOut()\n",
    "loo.get_n_splits(np.arange(num_samples))\n",
    "jazz_train_set_intra = np.zeros((num_samples, len(metrics_list), num_samples-1))\n",
    "jazz_gen_set_intra = np.zeros((num_samples, len(metrics_list), num_samples-1))\n",
    "\n",
    "for i in range(len(metrics_list)):\n",
    "    for train_index, test_index in loo.split(np.arange(num_samples)):\n",
    "        jazz_train_set_intra[test_index[0]][i] = utils.c_dist(jazz_train_set_eval[metrics_list[i]][test_index], jazz_train_set_eval[metrics_list[i]][train_index])\n",
    "        jazz_gen_set_intra[test_index[0]][i] = utils.c_dist(jazz_gen_set_eval[metrics_list[i]][test_index], jazz_gen_set_eval[metrics_list[i]][train_index])\n",
    "\n",
    "loo = LeaveOneOut()\n",
    "loo.get_n_splits(np.arange(num_samples))\n",
    "sets_inter = np.zeros((num_samples, len(metrics_list), num_samples))\n",
    "\n",
    "for i in range(len(metrics_list)):\n",
    "    for train_index, test_index in loo.split(np.arange(num_samples)):\n",
    "        sets_inter[test_index[0]][i] = utils.c_dist(jazz_train_set_eval[metrics_list[i]][test_index], jazz_gen_set_eval[metrics_list[i]])\n",
    "\n",
    "plot_jazz_train_set_intra = np.transpose(jazz_train_set_intra,(1, 0, 2)).reshape(len(metrics_list), -1)\n",
    "plot_jazz_gen_set_intra = np.transpose(jazz_gen_set_intra,(1, 0, 2)).reshape(len(metrics_list), -1)\n",
    "plot_sets_inter = np.transpose(sets_inter,(1, 0, 2)).reshape(len(metrics_list), -1)\n",
    "for i in range(0,len(metrics_list)):\n",
    "    sns.kdeplot(plot_jazz_train_set_intra[i], label='intra_set1')\n",
    "    sns.kdeplot(plot_sets_inter[i], label='inter')\n",
    "    sns.kdeplot(plot_jazz_gen_set_intra[i], label='intra_set2')\n",
    "\n",
    "    plt.title(metrics_list[i])\n",
    "    plt.xlabel('Euclidean distance')\n",
    "    plt.show()"
   ]
  },
  {
   "cell_type": "code",
   "execution_count": 38,
   "id": "518fc882",
   "metadata": {},
   "outputs": [
    {
     "name": "stdout",
     "output_type": "stream",
     "text": [
      "pitch_range:\n",
      "------------------------\n",
      " demo_set1\n",
      "  Kullback–Leibler divergence: 0.002280383939214547\n",
      "  Overlap area: 0.9390217149453794\n",
      " demo_set2\n",
      "  Kullback–Leibler divergence: 0.014780434567946373\n"
     ]
    },
    {
     "name": "stderr",
     "output_type": "stream",
     "text": [
      "/Users/roseqsun/Desktop/mgeval_rose/mgeval/mgeval/utils.py:18: IntegrationWarning: The maximum number of subdivisions (50) has been achieved.\n",
      "  If increasing the limit yields no improvement it is advised to analyze \n",
      "  the integrand in order to determine the difficulties.  If the position of a \n",
      "  local difficulty can be determined (singularity, discontinuity) one will \n",
      "  probably gain from splitting up the interval and calling the integrator \n",
      "  on the subranges.  Perhaps a special-purpose integrator should be used.\n",
      "  return integrate.quad(lambda x: min(pdf_A(x), pdf_B(x)), np.min((np.min(A), np.min(B))), np.max((np.max(A), np.max(B))))[0]\n"
     ]
    },
    {
     "name": "stdout",
     "output_type": "stream",
     "text": [
      "  Overlap area: 0.9397380579536505\n",
      " comp_set1_set2\n",
      "  Kullback–Leibler divergence: 0.008649614175018156\n",
      "  Overlap area: 0.9131668861659444\n"
     ]
    }
   ],
   "source": [
    "for i in range(0, len(metrics_list)):\n",
    "    print(metrics_list[i] + ':')\n",
    "    print('------------------------')\n",
    "    print(' demo_set1')\n",
    "    print('  Kullback–Leibler divergence:',utils.kl_dist(plot_jazz_train_set_intra[i], plot_sets_inter[i]))\n",
    "    print('  Overlap area:', utils.overlap_area(plot_jazz_train_set_intra[i], plot_sets_inter[i]))\n",
    "    \n",
    "    print(' demo_set2')\n",
    "    print('  Kullback–Leibler divergence:',utils.kl_dist(plot_jazz_gen_set_intra[i], plot_sets_inter[i]))\n",
    "    print('  Overlap area:', utils.overlap_area(plot_jazz_gen_set_intra[i], plot_sets_inter[i]))\n",
    "\n",
    "    print(' comp_set1_set2')\n",
    "    print('  Kullback–Leibler divergence:',utils.kl_dist(plot_jazz_train_set_intra[i],plot_jazz_gen_set_intra[i]))\n",
    "    print('  Overlap area:', utils.overlap_area(plot_jazz_train_set_intra[i],plot_jazz_gen_set_intra[i]))"
   ]
  },
  {
   "cell_type": "code",
   "execution_count": 28,
   "id": "ccf18065",
   "metadata": {},
   "outputs": [],
   "source": [
    "jazz_train_set_eval = {'avg_IOI': np.zeros((num_samples, 1))}\n",
    "metrics_list = list(jazz_train_set_eval.keys())\n",
    "for i in range(0, num_samples):\n",
    "    feature = core3.extract_feature(jazz_train_set[i])\n",
    "    jazz_train_set_eval[metrics_list[0]][i] = getattr(core3.metrics(), metrics_list[0])(feature)\n",
    "    \n",
    "jazz_gen_set_eval = {'avg_IOI': np.zeros((num_samples, 1))}\n",
    "metrics_list = list(jazz_gen_set_eval.keys())\n",
    "for i in range(0, num_samples):\n",
    "    feature = core3.extract_feature(jazz_gen_set[i])\n",
    "    jazz_gen_set_eval[metrics_list[0]][i] = getattr(core3.metrics(), metrics_list[0])(feature)"
   ]
  },
  {
   "cell_type": "code",
   "execution_count": 29,
   "id": "b583f3d0",
   "metadata": {},
   "outputs": [
    {
     "name": "stdout",
     "output_type": "stream",
     "text": [
      "avg_IOI:\n",
      "------------------------\n",
      " demo_set\n",
      "  mean:  [0.25251242]\n",
      "  std:  [0.09656806]\n",
      "------------------------\n",
      " demo_set\n",
      "  mean:  [0.1334591]\n",
      "  std:  [0.03730498]\n"
     ]
    }
   ],
   "source": [
    "for i in range(0, len(metrics_list)):\n",
    "    print(metrics_list[i] + ':')\n",
    "    print('------------------------')\n",
    "    print(' demo_set')\n",
    "    print('  mean: ', np.mean(jazz_train_set_eval[metrics_list[i]], axis=0))\n",
    "    print('  std: ', np.std(jazz_train_set_eval[metrics_list[i]], axis=0))\n",
    "\n",
    "    print('------------------------')\n",
    "    print(' demo_set')\n",
    "    print('  mean: ', np.mean(jazz_gen_set_eval[metrics_list[i]], axis=0))\n",
    "    print('  std: ', np.std(jazz_gen_set_eval[metrics_list[i]], axis=0))"
   ]
  },
  {
   "cell_type": "code",
   "execution_count": 30,
   "id": "7af96b55",
   "metadata": {},
   "outputs": [
    {
     "data": {
      "image/png": "[encoded data removed]",
      "text/plain": [
       "<Figure size 640x480 with 1 Axes>"
      ]
     },
     "metadata": {},
     "output_type": "display_data"
    }
   ],
   "source": [
    "loo = LeaveOneOut()\n",
    "loo.get_n_splits(np.arange(num_samples))\n",
    "jazz_train_set_intra = np.zeros((num_samples, len(metrics_list), num_samples-1))\n",
    "jazz_gen_set_intra = np.zeros((num_samples, len(metrics_list), num_samples-1))\n",
    "\n",
    "for i in range(len(metrics_list)):\n",
    "    for train_index, test_index in loo.split(np.arange(num_samples)):\n",
    "        jazz_train_set_intra[test_index[0]][i] = utils.c_dist(jazz_train_set_eval[metrics_list[i]][test_index], jazz_train_set_eval[metrics_list[i]][train_index])\n",
    "        jazz_gen_set_intra[test_index[0]][i] = utils.c_dist(jazz_gen_set_eval[metrics_list[i]][test_index], jazz_gen_set_eval[metrics_list[i]][train_index])\n",
    "\n",
    "loo = LeaveOneOut()\n",
    "loo.get_n_splits(np.arange(num_samples))\n",
    "sets_inter = np.zeros((num_samples, len(metrics_list), num_samples))\n",
    "\n",
    "for i in range(len(metrics_list)):\n",
    "    for train_index, test_index in loo.split(np.arange(num_samples)):\n",
    "        sets_inter[test_index[0]][i] = utils.c_dist(jazz_train_set_eval[metrics_list[i]][test_index], jazz_gen_set_eval[metrics_list[i]])\n",
    "\n",
    "plot_jazz_train_set_intra = np.transpose(jazz_train_set_intra,(1, 0, 2)).reshape(len(metrics_list), -1)\n",
    "plot_jazz_gen_set_intra = np.transpose(jazz_gen_set_intra,(1, 0, 2)).reshape(len(metrics_list), -1)\n",
    "plot_sets_inter = np.transpose(sets_inter,(1, 0, 2)).reshape(len(metrics_list), -1)\n",
    "for i in range(0,len(metrics_list)):\n",
    "    sns.kdeplot(plot_jazz_train_set_intra[i], label='intra_set1')\n",
    "    sns.kdeplot(plot_sets_inter[i], label='inter')\n",
    "    sns.kdeplot(plot_jazz_gen_set_intra[i], label='intra_set2')\n",
    "\n",
    "    plt.title(metrics_list[i])\n",
    "    plt.xlabel('Euclidean distance')\n",
    "    plt.show()"
   ]
  },
  {
   "cell_type": "code",
   "execution_count": 34,
   "id": "d0ef0612",
   "metadata": {},
   "outputs": [
    {
     "name": "stdout",
     "output_type": "stream",
     "text": [
      "avg_IOI:\n",
      "------------------------\n",
      " demo_set1\n",
      "  Kullback–Leibler divergence: 0.04502069650258146\n",
      "  Overlap area: 0.8394466437807676\n",
      " demo_set2\n",
      "  Kullback–Leibler divergence: 0.08395031534217429\n",
      "  Overlap area: 0.47057169499896817\n",
      " comp_set1_set2\n",
      "  Kullback–Leibler divergence: 0.07736313686117635\n",
      "  Overlap area: 0.5741994278877087\n"
     ]
    }
   ],
   "source": [
    "for i in range(0, len(metrics_list)):\n",
    "    print(metrics_list[i] + ':')\n",
    "    print('------------------------')\n",
    "    print(' demo_set1')\n",
    "    print('  Kullback–Leibler divergence:',utils.kl_dist(plot_jazz_train_set_intra[i], plot_sets_inter[i]))\n",
    "    print('  Overlap area:', utils.overlap_area(plot_jazz_train_set_intra[i], plot_sets_inter[i]))\n",
    "    \n",
    "    print(' demo_set2')\n",
    "    print('  Kullback–Leibler divergence:',utils.kl_dist(plot_jazz_gen_set_intra[i], plot_sets_inter[i]))\n",
    "    print('  Overlap area:', utils.overlap_area(plot_jazz_gen_set_intra[i], plot_sets_inter[i]))\n",
    "\n",
    "    print(' comp_set1_set2')\n",
    "    print('  Kullback–Leibler divergence:',utils.kl_dist(plot_jazz_train_set_intra[i],plot_jazz_gen_set_intra[i]))\n",
    "    print('  Overlap area:', utils.overlap_area(plot_jazz_train_set_intra[i],plot_jazz_gen_set_intra[i]))"
   ]
  },
  {
   "cell_type": "code",
   "execution_count": null,
   "id": "a48aa579",
   "metadata": {},
   "outputs": [],
   "source": []
  }
 ],
 "metadata": {
  "kernelspec": {
   "display_name": "Python 3 (ipykernel)",
   "language": "python",
   "name": "python3"
  },
  "language_info": {
   "codemirror_mode": {
    "name": "ipython",
    "version": 3
   },
   "file_extension": ".py",
   "mimetype": "text/x-python",
   "name": "python",
   "nbconvert_exporter": "python",
   "pygments_lexer": "ipython3",
   "version": "3.12.0"
  }
 },
 "nbformat": 4,
 "nbformat_minor": 5
}
