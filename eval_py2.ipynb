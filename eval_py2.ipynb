{
 "cells": [
  {
   "cell_type": "markdown",
   "metadata": {},
   "source": [
    "# MIDI Score Evaluation Using MGEval - Python2 Part"
   ]
  },
  {
   "cell_type": "markdown",
   "metadata": {},
   "source": [
    "## Setup\n",
    "1. Set up a Python 2 environment:\n",
    "```sh\n",
    "conda create -n mgeval_py2 python=2\n",
    "conda activate mgeval_py2\n",
    "```\n",
    "2. Install dependencies from PyPI:\n",
    "```sh\n",
    "pip install numpy scipy scikit-learn python-midi notebook\n",
    "```"
   ]
  },
  {
   "cell_type": "markdown",
   "metadata": {},
   "source": [
    "## Features\n",
    "Features that can only be extracted using Python 2:\n",
    "- `bar_used_pitch`\n",
    "- `total_used_note`\n",
    "- `bar_used_note`\n",
    "- `avg_pitch_shift`\n",
    "- `note_length_hist`\n",
    "- `note_length_transition_matrix`"
   ]
  },
  {
   "cell_type": "markdown",
   "metadata": {},
   "source": [
    "We use *auto-reload* to automatically reload the Python script without restarting the Jupyter kernel."
   ]
  },
  {
   "cell_type": "code",
   "execution_count": 1,
   "metadata": {},
   "outputs": [],
   "source": [
    "%load_ext autoreload\n",
    "%autoreload 2"
   ]
  },
  {
   "cell_type": "markdown",
   "metadata": {},
   "source": [
    "We will be using `core2` module, which is a modified version of `core` module without features relying on `pretty-midi`'s MIDI parsing."
   ]
  },
  {
   "cell_type": "code",
   "execution_count": 2,
   "metadata": {},
   "outputs": [],
   "source": [
    "import glob\n",
    "\n",
    "import midi\n",
    "import numpy as np\n",
    "import matplotlib.pyplot as plt\n",
    "from sklearn.model_selection import LeaveOneOut\n",
    "import seaborn as sns\n",
    "\n",
    "from mgeval import core2, utils"
   ]
  },
  {
   "cell_type": "markdown",
   "metadata": {},
   "source": [
    "Grab MIDI paths (strings) into two lists."
   ]
  },
  {
   "cell_type": "code",
   "execution_count": 3,
   "metadata": {},
   "outputs": [],
   "source": [
    "jazz_train_set = glob.glob('/Users/roseqsun/Desktop/InterpretableObjectiveEvaluation/wjazzd/*.mid')\n",
    "jazz_gen_set = glob.glob('/Users/roseqsun/Desktop/InterpretableObjectiveEvaluation/out_0405/*.mid')"
   ]
  },
  {
   "cell_type": "markdown",
   "metadata": {},
   "source": [
    "Set the sample number. We will only extract features from the top `num_samples` MIDI files in the path lists above."
   ]
  },
  {
   "cell_type": "code",
   "execution_count": 4,
   "metadata": {},
   "outputs": [
    {
     "data": {
      "text/plain": [
       "126"
      ]
     },
     "execution_count": 4,
     "metadata": {},
     "output_type": "execute_result"
    }
   ],
   "source": [
    "len(jazz_gen_set)"
   ]
  },
  {
   "cell_type": "code",
   "execution_count": 5,
   "metadata": {},
   "outputs": [],
   "source": [
    "num_samples = 126"
   ]
  },
  {
   "cell_type": "markdown",
   "metadata": {},
   "source": [
    "## Absolute measurement: statistic analysis"
   ]
  },
  {
   "cell_type": "markdown",
   "metadata": {},
   "source": [
    "Extract feature `total_used_note` from `jazz_train_set`.\n",
    "\n",
    "`getattr` is just a fancy way to call the function named as `total_used_note` by passing a string as the method name. It is the equivalent to:\n",
    "```python\n",
    "core2.metrics.total_used_note(feature, track_num=0)\n",
    "```\n",
    "\n",
    "The reason behind using `metrics_list` is to simplify the feature extraction when there are lots of features to extract. Instead of hand-writing `core2.metrics.<method_name>` multiple times, we can put the feature names into a list. Here, however, the `metrics_list` is derived from `jazz_train_set_eval`, which is a dictionary with only one key `total_used_note` (the exact name of the feature) and its value -- an empty numpy array that will be used to store computed results.\n",
    "\n",
    "The reason we set `track_num=0` is because the melody information is stored in the first MIDI track. The default value of this argument is `1`, so we have to explicitly set it to `0`."
   ]
  },
  {
   "cell_type": "markdown",
   "metadata": {},
   "source": [
    "> Suggestion:\n",
    "> There are lots of code duplications below, consider wrapping the code into functions."
   ]
  },
  {
   "cell_type": "code",
   "execution_count": 6,
   "metadata": {},
   "outputs": [],
   "source": [
    "jazz_train_set_eval = {'total_used_note': np.zeros((num_samples, 1))}\n",
    "metrics_list = jazz_train_set_eval.keys()\n",
    "for i in range(0, num_samples):\n",
    "    feature = core2.extract_feature(jazz_train_set[i])\n",
    "    jazz_train_set_eval[metrics_list[0]][i] = getattr(core2.metrics(), metrics_list[0])(feature, track_num=0)"
   ]
  },
  {
   "cell_type": "code",
   "execution_count": 7,
   "metadata": {},
   "outputs": [
    {
     "data": {
      "text/plain": [
       "{'total_used_note': array([[ 190.],\n",
       "        [ 703.],\n",
       "        [4954.],\n",
       "        [ 142.],\n",
       "        [ 262.],\n",
       "        [ 778.],\n",
       "        [ 393.],\n",
       "        [ 183.],\n",
       "        [ 109.],\n",
       "        [ 208.],\n",
       "        [ 668.],\n",
       "        [ 161.],\n",
       "        [ 821.],\n",
       "        [ 189.],\n",
       "        [ 656.],\n",
       "        [ 556.],\n",
       "        [ 159.],\n",
       "        [ 432.],\n",
       "        [ 671.],\n",
       "        [ 687.],\n",
       "        [ 551.],\n",
       "        [ 983.],\n",
       "        [ 208.],\n",
       "        [ 157.],\n",
       "        [ 193.],\n",
       "        [ 402.],\n",
       "        [ 238.],\n",
       "        [ 261.],\n",
       "        [ 357.],\n",
       "        [ 536.],\n",
       "        [ 430.],\n",
       "        [ 203.],\n",
       "        [ 273.],\n",
       "        [ 697.],\n",
       "        [ 224.],\n",
       "        [ 452.],\n",
       "        [ 277.],\n",
       "        [ 323.],\n",
       "        [ 127.],\n",
       "        [1127.],\n",
       "        [ 253.],\n",
       "        [ 571.],\n",
       "        [ 366.],\n",
       "        [ 589.],\n",
       "        [  72.],\n",
       "        [ 533.],\n",
       "        [ 421.],\n",
       "        [ 482.],\n",
       "        [ 461.],\n",
       "        [ 621.],\n",
       "        [ 616.],\n",
       "        [ 122.],\n",
       "        [ 177.],\n",
       "        [ 283.],\n",
       "        [ 219.],\n",
       "        [ 642.],\n",
       "        [ 129.],\n",
       "        [ 477.],\n",
       "        [ 170.],\n",
       "        [ 176.],\n",
       "        [1292.],\n",
       "        [ 217.],\n",
       "        [ 565.],\n",
       "        [ 119.],\n",
       "        [ 259.],\n",
       "        [ 264.],\n",
       "        [ 105.],\n",
       "        [ 567.],\n",
       "        [ 404.],\n",
       "        [ 635.],\n",
       "        [ 129.],\n",
       "        [ 140.],\n",
       "        [ 365.],\n",
       "        [ 187.],\n",
       "        [ 192.],\n",
       "        [ 465.],\n",
       "        [ 424.],\n",
       "        [ 152.],\n",
       "        [ 552.],\n",
       "        [ 418.],\n",
       "        [ 158.],\n",
       "        [1121.],\n",
       "        [ 455.],\n",
       "        [ 624.],\n",
       "        [ 156.],\n",
       "        [ 847.],\n",
       "        [ 312.],\n",
       "        [ 590.],\n",
       "        [1093.],\n",
       "        [ 292.],\n",
       "        [ 351.],\n",
       "        [ 360.],\n",
       "        [ 552.],\n",
       "        [ 198.],\n",
       "        [ 373.],\n",
       "        [ 347.],\n",
       "        [ 366.],\n",
       "        [ 221.],\n",
       "        [ 251.],\n",
       "        [  59.],\n",
       "        [ 633.],\n",
       "        [ 298.],\n",
       "        [ 371.],\n",
       "        [ 868.],\n",
       "        [ 319.],\n",
       "        [ 164.],\n",
       "        [  52.],\n",
       "        [ 116.],\n",
       "        [ 642.],\n",
       "        [ 525.],\n",
       "        [1427.],\n",
       "        [ 558.],\n",
       "        [ 219.],\n",
       "        [ 469.],\n",
       "        [ 292.],\n",
       "        [ 275.],\n",
       "        [ 352.],\n",
       "        [ 398.],\n",
       "        [ 155.],\n",
       "        [ 102.],\n",
       "        [ 799.],\n",
       "        [ 253.],\n",
       "        [ 370.],\n",
       "        [ 231.],\n",
       "        [ 262.],\n",
       "        [ 306.]])}"
      ]
     },
     "execution_count": 7,
     "metadata": {},
     "output_type": "execute_result"
    }
   ],
   "source": [
    "jazz_train_set_eval"
   ]
  },
  {
   "cell_type": "code",
   "execution_count": 8,
   "metadata": {},
   "outputs": [],
   "source": [
    "jazz_train_set_eval = {'total_used_note': np.zeros((num_samples, 1))}\n",
    "metrics_list = jazz_train_set_eval.keys()\n",
    "for i in range(0, num_samples):\n",
    "    feature = core2.extract_feature(jazz_train_set[i])\n",
    "    jazz_train_set_eval[metrics_list[0]][i] = getattr(core2.metrics(), metrics_list[0])(feature, track_num=0)"
   ]
  },
  {
   "cell_type": "markdown",
   "metadata": {},
   "source": [
    "Extract the same feature from `jazz_gen_set`."
   ]
  },
  {
   "cell_type": "code",
   "execution_count": 9,
   "metadata": {},
   "outputs": [],
   "source": [
    "jazz_gen_set_eval = {'total_used_note': np.zeros((num_samples, 1))}\n",
    "metrics_list = jazz_gen_set_eval.keys()\n",
    "for i in range(0, num_samples):\n",
    "    feature = core2.extract_feature(jazz_gen_set[i])\n",
    "    jazz_gen_set_eval[metrics_list[0]][i] = getattr(core2.metrics(), metrics_list[0])(feature, track_num=1)"
   ]
  },
  {
   "cell_type": "code",
   "execution_count": 10,
   "metadata": {},
   "outputs": [
    {
     "data": {
      "text/plain": [
       "{'total_used_note': array([[320.],\n",
       "        [104.],\n",
       "        [150.],\n",
       "        [421.],\n",
       "        [312.],\n",
       "        [195.],\n",
       "        [362.],\n",
       "        [429.],\n",
       "        [164.],\n",
       "        [161.],\n",
       "        [799.],\n",
       "        [398.],\n",
       "        [414.],\n",
       "        [466.],\n",
       "        [257.],\n",
       "        [524.],\n",
       "        [410.],\n",
       "        [231.],\n",
       "        [174.],\n",
       "        [763.],\n",
       "        [235.],\n",
       "        [209.],\n",
       "        [172.],\n",
       "        [580.],\n",
       "        [405.],\n",
       "        [483.],\n",
       "        [712.],\n",
       "        [280.],\n",
       "        [310.],\n",
       "        [327.],\n",
       "        [394.],\n",
       "        [190.],\n",
       "        [150.],\n",
       "        [707.],\n",
       "        [446.],\n",
       "        [407.],\n",
       "        [115.],\n",
       "        [115.],\n",
       "        [107.],\n",
       "        [419.],\n",
       "        [763.],\n",
       "        [183.],\n",
       "        [154.],\n",
       "        [399.],\n",
       "        [304.],\n",
       "        [ 83.],\n",
       "        [252.],\n",
       "        [136.],\n",
       "        [360.],\n",
       "        [343.],\n",
       "        [264.],\n",
       "        [224.],\n",
       "        [611.],\n",
       "        [188.],\n",
       "        [288.],\n",
       "        [317.],\n",
       "        [311.],\n",
       "        [122.],\n",
       "        [154.],\n",
       "        [194.],\n",
       "        [375.],\n",
       "        [192.],\n",
       "        [383.],\n",
       "        [389.],\n",
       "        [341.],\n",
       "        [256.],\n",
       "        [141.],\n",
       "        [236.],\n",
       "        [157.],\n",
       "        [342.],\n",
       "        [155.],\n",
       "        [160.],\n",
       "        [137.],\n",
       "        [259.],\n",
       "        [387.],\n",
       "        [166.],\n",
       "        [342.],\n",
       "        [226.],\n",
       "        [ 55.],\n",
       "        [381.],\n",
       "        [437.],\n",
       "        [199.],\n",
       "        [181.],\n",
       "        [196.],\n",
       "        [315.],\n",
       "        [346.],\n",
       "        [180.],\n",
       "        [295.],\n",
       "        [805.],\n",
       "        [364.],\n",
       "        [159.],\n",
       "        [121.],\n",
       "        [243.],\n",
       "        [309.],\n",
       "        [695.],\n",
       "        [178.],\n",
       "        [249.],\n",
       "        [331.],\n",
       "        [212.],\n",
       "        [104.],\n",
       "        [640.],\n",
       "        [203.],\n",
       "        [814.],\n",
       "        [197.],\n",
       "        [309.],\n",
       "        [315.],\n",
       "        [803.],\n",
       "        [171.],\n",
       "        [202.],\n",
       "        [357.],\n",
       "        [306.],\n",
       "        [221.],\n",
       "        [247.],\n",
       "        [349.],\n",
       "        [171.],\n",
       "        [ 87.],\n",
       "        [671.],\n",
       "        [226.],\n",
       "        [274.],\n",
       "        [461.],\n",
       "        [161.],\n",
       "        [280.],\n",
       "        [287.],\n",
       "        [381.],\n",
       "        [275.],\n",
       "        [362.]])}"
      ]
     },
     "execution_count": 10,
     "metadata": {},
     "output_type": "execute_result"
    }
   ],
   "source": [
    "jazz_gen_set_eval"
   ]
  },
  {
   "cell_type": "markdown",
   "metadata": {},
   "source": [
    "Make comparison between the two datasets."
   ]
  },
  {
   "cell_type": "code",
   "execution_count": 11,
   "metadata": {},
   "outputs": [
    {
     "name": "stdout",
     "output_type": "stream",
     "text": [
      "total_used_note:\n",
      "------------------------\n",
      " train_set\n",
      "  mean:  [436.14285714]\n",
      "  std:  [481.04431229]\n",
      "------------------------\n",
      " gen_set\n",
      "  mean:  [311.3968254]\n",
      "  std:  [172.56000012]\n"
     ]
    }
   ],
   "source": [
    "for i in range(0, len(metrics_list)):\n",
    "    print metrics_list[i] + ':'\n",
    "    print '------------------------'\n",
    "    print ' train_set'\n",
    "    print '  mean: ', np.mean(jazz_train_set_eval[metrics_list[i]], axis=0)\n",
    "    print '  std: ', np.std(jazz_train_set_eval[metrics_list[i]], axis=0)\n",
    "\n",
    "    print '------------------------'\n",
    "    print ' gen_set'\n",
    "    print '  mean: ', np.mean(jazz_gen_set_eval[metrics_list[i]], axis=0)\n",
    "    print '  std: ', np.std(jazz_gen_set_eval[metrics_list[i]], axis=0)"
   ]
  },
  {
   "cell_type": "markdown",
   "metadata": {},
   "source": [
    "## Relative measurement: generalizes the result among features with various dimensions"
   ]
  },
  {
   "cell_type": "markdown",
   "metadata": {},
   "source": [
    "the features are summarized to \n",
    "- the intra-set distances\n",
    "- the difference of intra-set and inter-set distances."
   ]
  },
  {
   "cell_type": "markdown",
   "metadata": {},
   "source": [
    "Exhaustive cross-validation for intra-set distances measurement.\n",
    "\n",
    "Note: For some reason, the matrix initialization in `demo.ipynb` ends up with a broadcasting error thrown inside the loop. The `c_dist` function returns an array of `num_samples-1` elements, so I modified the length of the third dimension accordingly, not sure if it is correct."
   ]
  },
  {
   "cell_type": "code",
   "execution_count": 12,
   "metadata": {},
   "outputs": [],
   "source": [
    "loo = LeaveOneOut()\n",
    "loo.get_n_splits(np.arange(num_samples))\n",
    "jazz_train_set_intra = np.zeros((num_samples, len(metrics_list), num_samples-1))\n",
    "jazz_gen_set_intra = np.zeros((num_samples, len(metrics_list), num_samples-1))\n",
    "\n",
    "for i in range(len(metrics_list)):\n",
    "    for train_index, test_index in loo.split(np.arange(num_samples)):\n",
    "        jazz_train_set_intra[test_index[0]][i] = utils.c_dist(jazz_train_set_eval[metrics_list[i]][test_index], jazz_train_set_eval[metrics_list[i]][train_index])\n",
    "        jazz_gen_set_intra[test_index[0]][i] = utils.c_dist(jazz_gen_set_eval[metrics_list[i]][test_index], jazz_gen_set_eval[metrics_list[i]][train_index])\n"
   ]
  },
  {
   "cell_type": "markdown",
   "metadata": {},
   "source": [
    "Exhaustive cross-validation for inter-set distances measurement."
   ]
  },
  {
   "cell_type": "code",
   "execution_count": 13,
   "metadata": {},
   "outputs": [],
   "source": [
    "loo = LeaveOneOut()\n",
    "loo.get_n_splits(np.arange(num_samples))\n",
    "sets_inter = np.zeros((num_samples, len(metrics_list), num_samples))\n",
    "\n",
    "for i in range(len(metrics_list)):\n",
    "    for train_index, test_index in loo.split(np.arange(num_samples)):\n",
    "        sets_inter[test_index[0]][i] = utils.c_dist(jazz_train_set_eval[metrics_list[i]][test_index], jazz_gen_set_eval[metrics_list[i]])"
   ]
  },
  {
   "cell_type": "markdown",
   "metadata": {},
   "source": [
    "Visualize intra-set and inter-set distances."
   ]
  },
  {
   "cell_type": "code",
   "execution_count": 14,
   "metadata": {},
   "outputs": [
    {
     "data": {
      "image/png": "[encoded data removed]",
      "text/plain": [
       "<Figure size 432x288 with 1 Axes>"
      ]
     },
     "metadata": {
      "needs_background": "light"
     },
     "output_type": "display_data"
    }
   ],
   "source": [
    "plot_jazz_train_set_intra = np.transpose(jazz_train_set_intra,(1, 0, 2)).reshape(len(metrics_list), -1)\n",
    "plot_jazz_gen_set_intra = np.transpose(jazz_gen_set_intra,(1, 0, 2)).reshape(len(metrics_list), -1)\n",
    "plot_sets_inter = np.transpose(sets_inter,(1, 0, 2)).reshape(len(metrics_list), -1)\n",
    "for i in range(0,len(metrics_list)):\n",
    "    sns.kdeplot(plot_jazz_train_set_intra[i], label='intra_set1')\n",
    "    sns.kdeplot(plot_sets_inter[i], label='inter')\n",
    "    sns.kdeplot(plot_jazz_gen_set_intra[i], label='intra_set2')\n",
    "\n",
    "    plt.title(metrics_list[i])\n",
    "    plt.xlabel('Euclidean distance')\n",
    "    plt.show()"
   ]
  },
  {
   "cell_type": "code",
   "execution_count": 15,
   "metadata": {},
   "outputs": [
    {
     "name": "stdout",
     "output_type": "stream",
     "text": [
      "total_used_note:\n",
      "------------------------\n",
      " demo_set1\n",
      "('  Kullback\\xe2\\x80\\x93Leibler divergence:', 0.04119846963216783)\n",
      "('  Overlap area:', 0.8326324584664081)\n",
      " demo_set2\n",
      "('  Kullback\\xe2\\x80\\x93Leibler divergence:', 21.562848765066583)\n",
      "('  Overlap area:', 0.7856712225541734)\n"
     ]
    }
   ],
   "source": [
    "for i in range(0, len(metrics_list)):\n",
    "    print(metrics_list[i] + ':')\n",
    "    print('------------------------')\n",
    "    print(' demo_set1')\n",
    "    print('  Kullback–Leibler divergence:',utils.kl_dist(plot_jazz_train_set_intra[i], plot_sets_inter[i]))\n",
    "    print('  Overlap area:', utils.overlap_area(plot_jazz_train_set_intra[i], plot_sets_inter[i]))\n",
    "    \n",
    "    print(' demo_set2')\n",
    "    print('  Kullback–Leibler divergence:',utils.kl_dist(plot_jazz_gen_set_intra[i], plot_sets_inter[i]))\n",
    "    print('  Overlap area:', utils.overlap_area(plot_jazz_gen_set_intra[i], plot_sets_inter[i]))"
   ]
  },
  {
   "cell_type": "code",
   "execution_count": 16,
   "metadata": {},
   "outputs": [],
   "source": [
    "jazz_train_set_eval = {'avg_pitch_shift': np.zeros((num_samples, 1))}\n",
    "metrics_list = jazz_train_set_eval.keys()\n",
    "for i in range(0, num_samples):\n",
    "    feature = core2.extract_feature(jazz_train_set[i])\n",
    "    jazz_train_set_eval[metrics_list[0]][i] = getattr(core2.metrics(), metrics_list[0])(feature, track_num=0)"
   ]
  },
  {
   "cell_type": "code",
   "execution_count": 17,
   "metadata": {},
   "outputs": [],
   "source": [
    "jazz_gen_set_eval = {'avg_pitch_shift': np.zeros((num_samples, 1))}\n",
    "metrics_list = jazz_gen_set_eval.keys()\n",
    "for i in range(0, num_samples):\n",
    "    feature = core2.extract_feature(jazz_gen_set[i])\n",
    "    jazz_gen_set_eval[metrics_list[0]][i] = getattr(core2.metrics(), metrics_list[0])(feature, track_num=1)"
   ]
  },
  {
   "cell_type": "code",
   "execution_count": 18,
   "metadata": {},
   "outputs": [
    {
     "name": "stdout",
     "output_type": "stream",
     "text": [
      "avg_pitch_shift:\n",
      "------------------------\n",
      " train_set\n",
      "  mean:  [2.71084169]\n",
      "  std:  [0.35977167]\n",
      "------------------------\n",
      " gen_set\n",
      "  mean:  [2.38161994]\n",
      "  std:  [0.35164707]\n"
     ]
    }
   ],
   "source": [
    "for i in range(0, len(metrics_list)):\n",
    "    print metrics_list[i] + ':'\n",
    "    print '------------------------'\n",
    "    print ' train_set'\n",
    "    print '  mean: ', np.mean(jazz_train_set_eval[metrics_list[i]], axis=0)\n",
    "    print '  std: ', np.std(jazz_train_set_eval[metrics_list[i]], axis=0)\n",
    "\n",
    "    print '------------------------'\n",
    "    print ' gen_set'\n",
    "    print '  mean: ', np.mean(jazz_gen_set_eval[metrics_list[i]], axis=0)\n",
    "    print '  std: ', np.std(jazz_gen_set_eval[metrics_list[i]], axis=0)"
   ]
  },
  {
   "cell_type": "code",
   "execution_count": 19,
   "metadata": {},
   "outputs": [
    {
     "data": {
      "image/png": "[encoded data removed]",
      "text/plain": [
       "<Figure size 432x288 with 1 Axes>"
      ]
     },
     "metadata": {
      "needs_background": "light"
     },
     "output_type": "display_data"
    }
   ],
   "source": [
    "loo = LeaveOneOut()\n",
    "loo.get_n_splits(np.arange(num_samples))\n",
    "jazz_train_set_intra = np.zeros((num_samples, len(metrics_list), num_samples-1))\n",
    "jazz_gen_set_intra = np.zeros((num_samples, len(metrics_list), num_samples-1))\n",
    "\n",
    "for i in range(len(metrics_list)):\n",
    "    for train_index, test_index in loo.split(np.arange(num_samples)):\n",
    "        jazz_train_set_intra[test_index[0]][i] = utils.c_dist(jazz_train_set_eval[metrics_list[i]][test_index], jazz_train_set_eval[metrics_list[i]][train_index])\n",
    "        jazz_gen_set_intra[test_index[0]][i] = utils.c_dist(jazz_gen_set_eval[metrics_list[i]][test_index], jazz_gen_set_eval[metrics_list[i]][train_index])\n",
    "plot_jazz_train_set_intra = np.transpose(jazz_train_set_intra,(1, 0, 2)).reshape(len(metrics_list), -1)\n",
    "plot_jazz_gen_set_intra = np.transpose(jazz_gen_set_intra,(1, 0, 2)).reshape(len(metrics_list), -1)\n",
    "plot_sets_inter = np.transpose(sets_inter,(1, 0, 2)).reshape(len(metrics_list), -1)\n",
    "for i in range(0,len(metrics_list)):\n",
    "    sns.kdeplot(plot_jazz_train_set_intra[i], label='intra_set1')\n",
    "    sns.kdeplot(plot_sets_inter[i], label='inter')\n",
    "    sns.kdeplot(plot_jazz_gen_set_intra[i], label='intra_set2')\n",
    "\n",
    "    plt.title(metrics_list[i])\n",
    "    plt.xlabel('Euclidean distance')\n",
    "    plt.show()"
   ]
  },
  {
   "cell_type": "code",
   "execution_count": 20,
   "metadata": {},
   "outputs": [
    {
     "name": "stdout",
     "output_type": "stream",
     "text": [
      "avg_pitch_shift:\n",
      "------------------------\n",
      " demo_set1\n",
      "('  Kullback\\xe2\\x80\\x93Leibler divergence:', 12.00238245976929)\n",
      "('  Overlap area:', 0.0)\n",
      " demo_set2\n",
      "('  Kullback\\xe2\\x80\\x93Leibler divergence:', 9.91595599026202)\n",
      "('  Overlap area:', 0.0)\n"
     ]
    }
   ],
   "source": [
    "for i in range(0, len(metrics_list)):\n",
    "    print(metrics_list[i] + ':')\n",
    "    print('------------------------')\n",
    "    print(' demo_set1')\n",
    "    print('  Kullback–Leibler divergence:',utils.kl_dist(plot_jazz_train_set_intra[i], plot_sets_inter[i]))\n",
    "    print('  Overlap area:', utils.overlap_area(plot_jazz_train_set_intra[i], plot_sets_inter[i]))\n",
    "    \n",
    "    print(' demo_set2')\n",
    "    print('  Kullback–Leibler divergence:',utils.kl_dist(plot_jazz_gen_set_intra[i], plot_sets_inter[i]))\n",
    "    print('  Overlap area:', utils.overlap_area(plot_jazz_gen_set_intra[i], plot_sets_inter[i]))"
   ]
  },
  {
   "cell_type": "code",
   "execution_count": 22,
   "metadata": {},
   "outputs": [],
   "source": [
    "jazz_train_set_eval = {'note_length_hist': np.zeros((num_samples, 12))}\n",
    "metrics_list = jazz_train_set_eval.keys()\n",
    "for i in range(0, num_samples):\n",
    "    feature = core2.extract_feature(jazz_train_set[i])\n",
    "    jazz_train_set_eval[metrics_list[0]][i] = getattr(core2.metrics(), metrics_list[0])(feature, track_num=0)\n",
    "\n",
    "jazz_gen_set_eval = {'note_length_hist': np.zeros((num_samples, 12))}\n",
    "metrics_list = jazz_gen_set_eval.keys()\n",
    "for i in range(0, num_samples):\n",
    "    feature = core2.extract_feature(jazz_gen_set[i])\n",
    "    jazz_gen_set_eval[metrics_list[0]][i] = getattr(core2.metrics(), metrics_list[0])(feature, track_num=1)"
   ]
  },
  {
   "cell_type": "code",
   "execution_count": 23,
   "metadata": {},
   "outputs": [
    {
     "name": "stdout",
     "output_type": "stream",
     "text": [
      "note_length_hist:\n",
      "------------------------\n",
      " train_set\n",
      "  mean:  [0.00406201 0.0145597  0.03163142 0.19795088 0.36989153 0.00504351\n",
      " 0.01541734 0.03319024 0.15139014 0.01734862 0.05701969 0.10249491]\n",
      "  std:  [0.01060965 0.02645457 0.03089087 0.12326916 0.26010936 0.01096646\n",
      " 0.02177543 0.02271033 0.08991659 0.02308463 0.03655096 0.04564183]\n",
      "------------------------\n",
      " gen_set\n",
      "  mean:  [4.50886073e-04 6.18023318e-03 1.77309198e-02 6.23460401e-02\n",
      " 6.13360101e-01 1.41916960e-03 7.31741848e-03 1.62390220e-02\n",
      " 8.40359962e-02 7.83342826e-03 1.65488111e-02 1.66537974e-01]\n",
      "  std:  [0.00208988 0.01701098 0.01930993 0.06627915 0.22724916 0.00369827\n",
      " 0.01257682 0.01611372 0.07277219 0.01136021 0.0242305  0.12535497]\n"
     ]
    }
   ],
   "source": [
    "for i in range(0, len(metrics_list)):\n",
    "    print metrics_list[i] + ':'\n",
    "    print '------------------------'\n",
    "    print ' train_set'\n",
    "    print '  mean: ', np.mean(jazz_train_set_eval[metrics_list[i]], axis=0)\n",
    "    print '  std: ', np.std(jazz_train_set_eval[metrics_list[i]], axis=0)\n",
    "\n",
    "    print '------------------------'\n",
    "    print ' gen_set'\n",
    "    print '  mean: ', np.mean(jazz_gen_set_eval[metrics_list[i]], axis=0)\n",
    "    print '  std: ', np.std(jazz_gen_set_eval[metrics_list[i]], axis=0)"
   ]
  },
  {
   "cell_type": "code",
   "execution_count": 24,
   "metadata": {},
   "outputs": [
    {
     "data": {
      "image/png": "[encoded data removed]",
      "text/plain": [
       "<Figure size 432x288 with 1 Axes>"
      ]
     },
     "metadata": {
      "needs_background": "light"
     },
     "output_type": "display_data"
    }
   ],
   "source": [
    "loo = LeaveOneOut()\n",
    "loo.get_n_splits(np.arange(num_samples))\n",
    "jazz_train_set_intra = np.zeros((num_samples, len(metrics_list), num_samples-1))\n",
    "jazz_gen_set_intra = np.zeros((num_samples, len(metrics_list), num_samples-1))\n",
    "\n",
    "for i in range(len(metrics_list)):\n",
    "    for train_index, test_index in loo.split(np.arange(num_samples)):\n",
    "        jazz_train_set_intra[test_index[0]][i] = utils.c_dist(jazz_train_set_eval[metrics_list[i]][test_index], jazz_train_set_eval[metrics_list[i]][train_index])\n",
    "        jazz_gen_set_intra[test_index[0]][i] = utils.c_dist(jazz_gen_set_eval[metrics_list[i]][test_index], jazz_gen_set_eval[metrics_list[i]][train_index])\n",
    "plot_jazz_train_set_intra = np.transpose(jazz_train_set_intra,(1, 0, 2)).reshape(len(metrics_list), -1)\n",
    "plot_jazz_gen_set_intra = np.transpose(jazz_gen_set_intra,(1, 0, 2)).reshape(len(metrics_list), -1)\n",
    "plot_sets_inter = np.transpose(sets_inter,(1, 0, 2)).reshape(len(metrics_list), -1)\n",
    "for i in range(0,len(metrics_list)):\n",
    "    sns.kdeplot(plot_jazz_train_set_intra[i], label='intra_set1')\n",
    "    sns.kdeplot(plot_sets_inter[i], label='inter')\n",
    "    sns.kdeplot(plot_jazz_gen_set_intra[i], label='intra_set2')\n",
    "\n",
    "    plt.title(metrics_list[i])\n",
    "    plt.xlabel('Euclidean distance')\n",
    "    plt.show()"
   ]
  },
  {
   "cell_type": "code",
   "execution_count": 25,
   "metadata": {},
   "outputs": [
    {
     "name": "stdout",
     "output_type": "stream",
     "text": [
      "note_length_hist:\n",
      "------------------------\n",
      " demo_set1\n",
      "('  Kullback\\xe2\\x80\\x93Leibler divergence:', 46.100244659312644)\n",
      "('  Overlap area:', 0.0)\n",
      " demo_set2\n",
      "('  Kullback\\xe2\\x80\\x93Leibler divergence:', 42.49872266461517)\n",
      "('  Overlap area:', 0.0)\n"
     ]
    }
   ],
   "source": [
    "for i in range(0, len(metrics_list)):\n",
    "    print(metrics_list[i] + ':')\n",
    "    print('------------------------')\n",
    "    print(' demo_set1')\n",
    "    print('  Kullback–Leibler divergence:',utils.kl_dist(plot_jazz_train_set_intra[i], plot_sets_inter[i]))\n",
    "    print('  Overlap area:', utils.overlap_area(plot_jazz_train_set_intra[i], plot_sets_inter[i]))\n",
    "    \n",
    "    print(' demo_set2')\n",
    "    print('  Kullback–Leibler divergence:',utils.kl_dist(plot_jazz_gen_set_intra[i], plot_sets_inter[i]))\n",
    "    print('  Overlap area:', utils.overlap_area(plot_jazz_gen_set_intra[i], plot_sets_inter[i]))"
   ]
  },
  {
   "cell_type": "code",
   "execution_count": 26,
   "metadata": {},
   "outputs": [
    {
     "ename": "ValueError",
     "evalue": "could not broadcast input array from shape (12,12) into shape (12)",
     "output_type": "error",
     "traceback": [
      "\u001b[0;31m---------------------------------------------------------------------------\u001b[0m",
      "\u001b[0;31mValueError\u001b[0m                                Traceback (most recent call last)",
      "\u001b[0;32m<ipython-input-26-241bab33e120>\u001b[0m in \u001b[0;36m<module>\u001b[0;34m()\u001b[0m\n\u001b[1;32m      3\u001b[0m \u001b[0;32mfor\u001b[0m \u001b[0mi\u001b[0m \u001b[0;32min\u001b[0m \u001b[0mrange\u001b[0m\u001b[0;34m(\u001b[0m\u001b[0;36m0\u001b[0m\u001b[0;34m,\u001b[0m \u001b[0mnum_samples\u001b[0m\u001b[0;34m)\u001b[0m\u001b[0;34m:\u001b[0m\u001b[0;34m\u001b[0m\u001b[0m\n\u001b[1;32m      4\u001b[0m     \u001b[0mfeature\u001b[0m \u001b[0;34m=\u001b[0m \u001b[0mcore2\u001b[0m\u001b[0;34m.\u001b[0m\u001b[0mextract_feature\u001b[0m\u001b[0;34m(\u001b[0m\u001b[0mjazz_train_set\u001b[0m\u001b[0;34m[\u001b[0m\u001b[0mi\u001b[0m\u001b[0;34m]\u001b[0m\u001b[0;34m)\u001b[0m\u001b[0;34m\u001b[0m\u001b[0m\n\u001b[0;32m----> 5\u001b[0;31m     \u001b[0mjazz_train_set_eval\u001b[0m\u001b[0;34m[\u001b[0m\u001b[0mmetrics_list\u001b[0m\u001b[0;34m[\u001b[0m\u001b[0;36m0\u001b[0m\u001b[0;34m]\u001b[0m\u001b[0;34m]\u001b[0m\u001b[0;34m[\u001b[0m\u001b[0mi\u001b[0m\u001b[0;34m]\u001b[0m \u001b[0;34m=\u001b[0m \u001b[0mgetattr\u001b[0m\u001b[0;34m(\u001b[0m\u001b[0mcore2\u001b[0m\u001b[0;34m.\u001b[0m\u001b[0mmetrics\u001b[0m\u001b[0;34m(\u001b[0m\u001b[0;34m)\u001b[0m\u001b[0;34m,\u001b[0m \u001b[0mmetrics_list\u001b[0m\u001b[0;34m[\u001b[0m\u001b[0;36m0\u001b[0m\u001b[0;34m]\u001b[0m\u001b[0;34m)\u001b[0m\u001b[0;34m(\u001b[0m\u001b[0mfeature\u001b[0m\u001b[0;34m,\u001b[0m \u001b[0mtrack_num\u001b[0m\u001b[0;34m=\u001b[0m\u001b[0;36m0\u001b[0m\u001b[0;34m)\u001b[0m\u001b[0;34m\u001b[0m\u001b[0m\n\u001b[0m\u001b[1;32m      6\u001b[0m \u001b[0;34m\u001b[0m\u001b[0m\n\u001b[1;32m      7\u001b[0m \u001b[0mjazz_gen_set_eval\u001b[0m \u001b[0;34m=\u001b[0m \u001b[0;34m{\u001b[0m\u001b[0;34m'note_length_trasition_matrix'\u001b[0m\u001b[0;34m:\u001b[0m \u001b[0mnp\u001b[0m\u001b[0;34m.\u001b[0m\u001b[0mzeros\u001b[0m\u001b[0;34m(\u001b[0m\u001b[0;34m(\u001b[0m\u001b[0mnum_samples\u001b[0m\u001b[0;34m,\u001b[0m \u001b[0;36m12\u001b[0m\u001b[0;34m)\u001b[0m\u001b[0;34m)\u001b[0m\u001b[0;34m}\u001b[0m\u001b[0;34m\u001b[0m\u001b[0m\n",
      "\u001b[0;31mValueError\u001b[0m: could not broadcast input array from shape (12,12) into shape (12)"
     ]
    }
   ],
   "source": [
    "jazz_train_set_eval = {'note_length_transition_matrix': np.zeros((num_samples, (12,12))}\n",
    "metrics_list = jazz_train_set_eval.keys()\n",
    "for i in range(0, num_samples):\n",
    "    feature = core2.extract_feature(jazz_train_set[i])\n",
    "    jazz_train_set_eval[metrics_list[0]][i] = getattr(core2.metrics(), metrics_list[0])(feature, track_num=0)\n",
    "\n",
    "jazz_gen_set_eval = {'note_length_trasition_matrix': np.zeros((num_samples, (12,12)))}\n",
    "metrics_list = jazz_gen_set_eval.keys()\n",
    "for i in range(0, num_samples):\n",
    "    feature = core2.extract_feature(jazz_gen_set[i])\n",
    "    jazz_gen_set_eval[metrics_list[0]][i] = getattr(core2.metrics(), metrics_list[0])(feature, track_num=1)"
   ]
  },
  {
   "cell_type": "code",
   "execution_count": null,
   "metadata": {},
   "outputs": [],
   "source": [
    "for i in range(0, len(metrics_list)):\n",
    "    print metrics_list[i] + ':'\n",
    "    print '------------------------'\n",
    "    print ' train_set'\n",
    "    print '  mean: ', np.mean(jazz_train_set_eval[metrics_list[i]], axis=0)\n",
    "    print '  std: ', np.std(jazz_train_set_eval[metrics_list[i]], axis=0)\n",
    "\n",
    "    print '------------------------'\n",
    "    print ' gen_set'\n",
    "    print '  mean: ', np.mean(jazz_gen_set_eval[metrics_list[i]], axis=0)\n",
    "    print '  std: ', np.std(jazz_gen_set_eval[metrics_list[i]], axis=0)"
   ]
  }
 ],
 "metadata": {
  "kernelspec": {
   "display_name": "Python 2",
   "language": "python",
   "name": "python2"
  },
  "language_info": {
   "codemirror_mode": {
    "name": "ipython",
    "version": 2
   },
   "file_extension": ".py",
   "mimetype": "text/x-python",
   "name": "python",
   "nbconvert_exporter": "python",
   "pygments_lexer": "ipython2",
   "version": "2.7.18"
  }
 },
 "nbformat": 4,
 "nbformat_minor": 2
}
